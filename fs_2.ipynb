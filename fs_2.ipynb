{
  "nbformat": 4,
  "nbformat_minor": 0,
  "metadata": {
    "colab": {
      "provenance": [],
      "mount_file_id": "1TGJCEymB15sb_6Qkh14RByjHAKVMLXSg",
      "authorship_tag": "ABX9TyM64xaZJc8rZIWM9uTDuN+2",
      "include_colab_link": true
    },
    "kernelspec": {
      "name": "python3",
      "display_name": "Python 3"
    },
    "language_info": {
      "name": "python"
    }
  },
  "cells": [
    {
      "cell_type": "markdown",
      "metadata": {
        "id": "view-in-github",
        "colab_type": "text"
      },
      "source": [
        "<a href=\"https://colab.research.google.com/github/gnaneswar-18/fs-2/blob/main/fs_2.ipynb\" target=\"_parent\"><img src=\"https://colab.research.google.com/assets/colab-badge.svg\" alt=\"Open In Colab\"/></a>"
      ]
    },
    {
      "cell_type": "code",
      "source": [
        "import pandas as pd;\n",
        "from sklearn.preprocessing import LabelEncoder\n",
        "data=pd.read_csv('/content/drive/MyDrive/Copy of melbourne_housing_raw.csv')\n",
        "print(data.keys())\n",
        "print(data.head())"
      ],
      "metadata": {
        "colab": {
          "base_uri": "https://localhost:8080/"
        },
        "id": "UY4bYbMllLhW",
        "outputId": "da6ddaa6-cb13-4a9e-b2a9-703b632e818e"
      },
      "execution_count": null,
      "outputs": [
        {
          "output_type": "stream",
          "name": "stdout",
          "text": [
            "Index(['Suburb', 'Rooms', 'Type', 'Price', 'Method', 'SellerG', 'Date',\n",
            "       'Distance', 'Postcode', 'Bedroom2', 'Bathroom', 'Car', 'Landsize',\n",
            "       'BuildingArea', 'YearBuilt', 'CouncilArea', 'Lattitude', 'Longtitude',\n",
            "       'Regionname', 'Propertycount'],\n",
            "      dtype='object')\n",
            "       Suburb  Rooms Type      Price Method SellerG     Date  Distance  \\\n",
            "0  Abbotsford      2    h        NaN     SS  Jellis   3/9/16       2.5   \n",
            "1  Abbotsford      2    h  1480000.0      S  Biggin  3/12/16       2.5   \n",
            "2  Abbotsford      2    h  1035000.0      S  Biggin   4/2/16       2.5   \n",
            "3  Abbotsford      3    u        NaN     VB  Rounds   4/2/16       2.5   \n",
            "4  Abbotsford      3    h  1465000.0     SP  Biggin   4/3/17       2.5   \n",
            "\n",
            "   Postcode  Bedroom2  Bathroom  Car  Landsize  BuildingArea  YearBuilt  \\\n",
            "0    3067.0       2.0       1.0  1.0     126.0           NaN        NaN   \n",
            "1    3067.0       2.0       1.0  1.0     202.0           NaN        NaN   \n",
            "2    3067.0       2.0       1.0  0.0     156.0          79.0     1900.0   \n",
            "3    3067.0       3.0       2.0  1.0       0.0           NaN        NaN   \n",
            "4    3067.0       3.0       2.0  0.0     134.0         150.0     1900.0   \n",
            "\n",
            "          CouncilArea  Lattitude  Longtitude             Regionname  \\\n",
            "0  Yarra City Council   -37.8014    144.9958  Northern Metropolitan   \n",
            "1  Yarra City Council   -37.7996    144.9984  Northern Metropolitan   \n",
            "2  Yarra City Council   -37.8079    144.9934  Northern Metropolitan   \n",
            "3  Yarra City Council   -37.8114    145.0116  Northern Metropolitan   \n",
            "4  Yarra City Council   -37.8093    144.9944  Northern Metropolitan   \n",
            "\n",
            "   Propertycount  \n",
            "0         4019.0  \n",
            "1         4019.0  \n",
            "2         4019.0  \n",
            "3         4019.0  \n",
            "4         4019.0  \n"
          ]
        }
      ]
    },
    {
      "cell_type": "code",
      "source": [
        "\n",
        "from sklearn import preprocessing\n",
        "label_encoder = preprocessing.LabelEncoder()\n",
        "for column in data.keys():\n",
        "  if data[column].dtype == 'object':\n",
        "    data[column] = label_encoder.fit_transform(data[column])\n",
        "\n",
        "\n",
        "x=data.drop('Propertycount',axis=1)\n",
        "y=data['Propertycount']\n"
      ],
      "metadata": {
        "id": "3HvEsRYjaXxs"
      },
      "execution_count": null,
      "outputs": []
    },
    {
      "cell_type": "code",
      "source": [
        "print(x.shape)\n",
        "print(y.shape)\n",
        "if y.isnull().any():\n",
        "    y = y.dropna()\n",
        "    x = x.loc[y.index]\n",
        "print(x.shape)\n",
        "print(y.shape)"
      ],
      "metadata": {
        "colab": {
          "base_uri": "https://localhost:8080/"
        },
        "id": "VbLak0eEf32H",
        "outputId": "433ba7c2-7f0e-4e27-fa8c-260b00e31654"
      },
      "execution_count": null,
      "outputs": [
        {
          "output_type": "stream",
          "name": "stdout",
          "text": [
            "(34857, 19)\n",
            "(34857,)\n",
            "(34854, 19)\n",
            "(34854,)\n"
          ]
        }
      ]
    },
    {
      "cell_type": "code",
      "source": [
        "missing_value_count=x.isnull().sum()\n",
        "# print(missing_value_count)\n",
        "missing_value_percentage=missing_value_count/len(x)*100\n",
        "print(missing_value_percentage)"
      ],
      "metadata": {
        "colab": {
          "base_uri": "https://localhost:8080/"
        },
        "id": "cLofJafSiZzm",
        "outputId": "4083468a-e745-4578-e694-a740ba9c854d"
      },
      "execution_count": null,
      "outputs": [
        {
          "output_type": "stream",
          "name": "stdout",
          "text": [
            "Suburb           0.000000\n",
            "Rooms            0.000000\n",
            "Type             0.000000\n",
            "Price           21.833936\n",
            "Method           0.000000\n",
            "SellerG          0.000000\n",
            "Date             0.000000\n",
            "Distance         0.000000\n",
            "Postcode         0.000000\n",
            "Bedroom2        23.566879\n",
            "Bathroom        23.592701\n",
            "Car             25.032995\n",
            "Landsize        33.875595\n",
            "BuildingArea    60.572675\n",
            "YearBuilt       55.382453\n",
            "CouncilArea      0.000000\n",
            "Lattitude       22.875423\n",
            "Longtitude      22.875423\n",
            "Regionname       0.000000\n",
            "dtype: float64\n"
          ]
        }
      ]
    },
    {
      "cell_type": "code",
      "source": [
        "final_columns=missing_value_percentage[missing_value_percentage<=20].keys()\n",
        "print(final_columns)\n",
        "xu=x[final_columns]\n",
        "print(xu.shape)"
      ],
      "metadata": {
        "colab": {
          "base_uri": "https://localhost:8080/"
        },
        "id": "04NEWdgYju32",
        "outputId": "e54d3d44-dd5f-4200-ec98-00e03339f3ed"
      },
      "execution_count": null,
      "outputs": [
        {
          "output_type": "stream",
          "name": "stdout",
          "text": [
            "Index(['Suburb', 'Rooms', 'Type', 'Method', 'SellerG', 'Date', 'Distance',\n",
            "       'Postcode', 'CouncilArea', 'Regionname'],\n",
            "      dtype='object')\n",
            "(34854, 10)\n"
          ]
        }
      ]
    },
    {
      "cell_type": "code",
      "source": [
        "from sklearn.model_selection import train_test_split\n",
        "from sklearn.tree import DecisionTreeClassifier\n",
        "from sklearn.metrics import accuracy_score\n",
        "model = DecisionTreeClassifier(random_state=42)\n",
        "x_train,x_test,y_train,y_test=train_test_split(x,y,test_size=0.3,random_state=42)\n",
        "model.fit(x_train,y_train)\n",
        "y_pred=model.predict(x_test)\n",
        "print(accuracy_score(y_test,y_pred))\n",
        "\n",
        "xu_train,xu_test,yu_train,yu_test=train_test_split(xu,y,test_size=0.3,random_state=42)\n",
        "model.fit(xu_train,yu_train)\n",
        "yu_pred=model.predict(xu_test)\n",
        "print(accuracy_score(yu_test,yu_pred))"
      ],
      "metadata": {
        "colab": {
          "base_uri": "https://localhost:8080/"
        },
        "id": "rLqZAi9BkWUh",
        "outputId": "86454dd6-3c12-4c4c-d362-d8a6c7164615"
      },
      "execution_count": null,
      "outputs": [
        {
          "output_type": "stream",
          "name": "stdout",
          "text": [
            "0.9975136272353448\n",
            "0.9989480730611074\n"
          ]
        }
      ]
    }
  ]
}